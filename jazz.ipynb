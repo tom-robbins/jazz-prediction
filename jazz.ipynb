{
 "cells": [
  {
   "cell_type": "code",
   "execution_count": 1,
   "metadata": {
    "collapsed": false,
    "deletable": true,
    "editable": true
   },
   "outputs": [],
   "source": [
    "import sqlite3\n",
    "import sqlalchemy\n",
    "import pandas as pd\n",
    "import numpy as np\n"
   ]
  },
  {
   "cell_type": "code",
   "execution_count": 2,
   "metadata": {
    "collapsed": false,
    "deletable": true,
    "editable": true
   },
   "outputs": [
    {
     "data": {
      "text/plain": [
       "[(u'melody',),\n",
       " (u'sqlite_sequence',),\n",
       " (u'beats',),\n",
       " (u'sections',),\n",
       " (u'melody_type',),\n",
       " (u'transcription_info',),\n",
       " (u'solo_info',),\n",
       " (u'record_info',),\n",
       " (u'track_info',),\n",
       " (u'composition_info',),\n",
       " (u'esac_info',),\n",
       " (u'popsong_info',),\n",
       " (u'db_info',),\n",
       " (u'melind',),\n",
       " (u'esacind',),\n",
       " (u'soloind',),\n",
       " (u'transind',),\n",
       " (u'trackind',),\n",
       " (u'compind',),\n",
       " (u'sectind',),\n",
       " (u'typeind',)]"
      ]
     },
     "execution_count": 2,
     "metadata": {},
     "output_type": "execute_result"
    }
   ],
   "source": [
    "name = 'wjazzd.db'\n",
    "jazzdb = sqlite3.connect(name)\n",
    "cursor = jazzdb.cursor()\n",
    "cursor.execute(\"SELECT name FROM sqlite_master;\")\n",
    "tables = cursor.fetchall()\n",
    "tables"
   ]
  },
  {
   "cell_type": "code",
   "execution_count": 3,
   "metadata": {
    "collapsed": false,
    "deletable": true,
    "editable": true
   },
   "outputs": [],
   "source": [
    "engine = sqlalchemy.create_engine(\"sqlite:///%s\" % name, execution_options={\"sqlite_raw_colnames\": True})\n",
    "df = pd.read_sql_table('melody', engine)\n"
   ]
  },
  {
   "cell_type": "code",
   "execution_count": 9,
   "metadata": {
    "collapsed": false,
    "deletable": true,
    "editable": true
   },
   "outputs": [
    {
     "data": {
      "text/plain": [
       "eventid                             2\n",
       "melid                               1\n",
       "onset                         10.6376\n",
       "pitch                              63\n",
       "duration                     0.171247\n",
       "period                              4\n",
       "division                            4\n",
       "bar                                 0\n",
       "beat                                2\n",
       "tatum                               1\n",
       "subtatum                            0\n",
       "num                                 4\n",
       "denom                               4\n",
       "beatprops                        None\n",
       "beatdur                      0.286621\n",
       "tatumprops     (1.0, 1.0, 1.0, 1.173)\n",
       "f0_mod                               \n",
       "loud_max                     0.349751\n",
       "loud_med                      69.1333\n",
       "loud_sd                       2.91241\n",
       "loud_relpos                      0.25\n",
       "loud_cent                    0.468687\n",
       "loud_s2b                      1.12032\n",
       "f0_range                      6.36593\n",
       "f0_freq_hz                    6.95693\n",
       "f0_med_dev                    11.1354\n",
       "Name: 1, dtype: object"
      ]
     },
     "execution_count": 9,
     "metadata": {},
     "output_type": "execute_result"
    }
   ],
   "source": [
    "# df['melid' == 1]\n",
    "df.loc[df['melid'] == 5]\n",
    "df.iloc[1]"
   ]
  },
  {
   "cell_type": "code",
   "execution_count": null,
   "metadata": {
    "collapsed": true,
    "deletable": true,
    "editable": true
   },
   "outputs": [],
   "source": []
  }
 ],
 "metadata": {
  "kernelspec": {
   "display_name": "Python 2",
   "language": "python",
   "name": "python2"
  },
  "language_info": {
   "codemirror_mode": {
    "name": "ipython",
    "version": 2
   },
   "file_extension": ".py",
   "mimetype": "text/x-python",
   "name": "python",
   "nbconvert_exporter": "python",
   "pygments_lexer": "ipython2",
   "version": "2.7.13"
  }
 },
 "nbformat": 4,
 "nbformat_minor": 2
}
